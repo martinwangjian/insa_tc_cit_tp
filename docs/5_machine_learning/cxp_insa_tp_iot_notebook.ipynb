{
 "cells": [
  {
   "cell_type": "markdown",
   "metadata": {},
   "source": [
    "<p>\n",
    "    <img src=\"https://s3.amazonaws.com/iotanalytics-templates/Logo.png\" style=\"float:left;width:65px\">\n",
    "    <h1 style=\"float:left;color:#1A5276;padding-left:15px;font-size:20px;\">AWS IoT Analytics | Notebook</h1>\n",
    "</p>\n"
   ]
  },
  {
   "cell_type": "code",
   "execution_count": null,
   "metadata": {},
   "outputs": [],
   "source": [
    "!pip install pmdarima -t ./"
   ]
  },
  {
   "cell_type": "markdown",
   "metadata": {},
   "source": [
    "When loading data from IoT Analytics datasets, the client should be initialized first:"
   ]
  },
  {
   "cell_type": "code",
   "execution_count": 32,
   "metadata": {},
   "outputs": [],
   "source": [
    "import boto3\n",
    "import pandas as pd\n",
    "from statsmodels.tsa.stattools import adfuller\n",
    "\n",
    "# create IoT Analytics client\n",
    "client = boto3.client('iotanalytics')"
   ]
  },
  {
   "cell_type": "markdown",
   "metadata": {
    "collapsed": true
   },
   "source": [
    "Now we can get the data location (URL) for the given dataset and start working with the data (In order to need to perform get_dataset_content, you need to grant iot analytics corresponding IAM permission):"
   ]
  },
  {
   "cell_type": "code",
   "execution_count": 46,
   "metadata": {},
   "outputs": [],
   "source": [
    "dataset = \"cxp_insa_tp_iot_dataset\"\n",
    "dataset_url = client.get_dataset_content(datasetName = dataset)['entries'][0]['dataURI']\n",
    "df = pd.read_csv(dataset_url)\n",
    "df = df.drop_duplicates(subset=['date'])\n",
    "df['date'] = df['date'].apply(pd.to_datetime, utc=True)\n",
    "df.set_index('date',inplace=True)\n",
    "df = df.groupby(pd.Grouper(freq='D')).mean()\n",
    "# start working with the data"
   ]
  },
  {
   "cell_type": "code",
   "execution_count": 3,
   "metadata": {},
   "outputs": [
    {
     "data": {
      "text/plain": [
       "TemperatureC    float64\n",
       "dtype: object"
      ]
     },
     "execution_count": 3,
     "metadata": {},
     "output_type": "execute_result"
    }
   ],
   "source": [
    "df.dtypes"
   ]
  },
  {
   "cell_type": "code",
   "execution_count": 35,
   "metadata": {},
   "outputs": [
    {
     "data": {
      "text/html": [
       "<div>\n",
       "<style scoped>\n",
       "    .dataframe tbody tr th:only-of-type {\n",
       "        vertical-align: middle;\n",
       "    }\n",
       "\n",
       "    .dataframe tbody tr th {\n",
       "        vertical-align: top;\n",
       "    }\n",
       "\n",
       "    .dataframe thead th {\n",
       "        text-align: right;\n",
       "    }\n",
       "</style>\n",
       "<table border=\"1\" class=\"dataframe\">\n",
       "  <thead>\n",
       "    <tr style=\"text-align: right;\">\n",
       "      <th></th>\n",
       "      <th>TemperatureC</th>\n",
       "    </tr>\n",
       "    <tr>\n",
       "      <th>date</th>\n",
       "      <th></th>\n",
       "    </tr>\n",
       "  </thead>\n",
       "  <tbody>\n",
       "    <tr>\n",
       "      <th>2016-01-31 00:00:00+00:00</th>\n",
       "      <td>6.471774</td>\n",
       "    </tr>\n",
       "    <tr>\n",
       "      <th>2016-02-29 00:00:00+00:00</th>\n",
       "      <td>6.612500</td>\n",
       "    </tr>\n",
       "    <tr>\n",
       "      <th>2016-03-31 00:00:00+00:00</th>\n",
       "      <td>6.940323</td>\n",
       "    </tr>\n",
       "    <tr>\n",
       "      <th>2016-04-30 00:00:00+00:00</th>\n",
       "      <td>11.447917</td>\n",
       "    </tr>\n",
       "    <tr>\n",
       "      <th>2016-05-31 00:00:00+00:00</th>\n",
       "      <td>14.821053</td>\n",
       "    </tr>\n",
       "    <tr>\n",
       "      <th>2016-06-30 00:00:00+00:00</th>\n",
       "      <td>19.286611</td>\n",
       "    </tr>\n",
       "    <tr>\n",
       "      <th>2016-07-31 00:00:00+00:00</th>\n",
       "      <td>22.137903</td>\n",
       "    </tr>\n",
       "    <tr>\n",
       "      <th>2016-08-31 00:00:00+00:00</th>\n",
       "      <td>22.184677</td>\n",
       "    </tr>\n",
       "    <tr>\n",
       "      <th>2016-09-30 00:00:00+00:00</th>\n",
       "      <td>19.750833</td>\n",
       "    </tr>\n",
       "    <tr>\n",
       "      <th>2016-10-31 00:00:00+00:00</th>\n",
       "      <td>11.186640</td>\n",
       "    </tr>\n",
       "    <tr>\n",
       "      <th>2016-11-30 00:00:00+00:00</th>\n",
       "      <td>7.954167</td>\n",
       "    </tr>\n",
       "    <tr>\n",
       "      <th>2016-12-31 00:00:00+00:00</th>\n",
       "      <td>2.003629</td>\n",
       "    </tr>\n",
       "    <tr>\n",
       "      <th>2017-01-31 00:00:00+00:00</th>\n",
       "      <td>0.024194</td>\n",
       "    </tr>\n",
       "    <tr>\n",
       "      <th>2017-02-28 00:00:00+00:00</th>\n",
       "      <td>8.120536</td>\n",
       "    </tr>\n",
       "    <tr>\n",
       "      <th>2017-03-31 00:00:00+00:00</th>\n",
       "      <td>10.892742</td>\n",
       "    </tr>\n",
       "    <tr>\n",
       "      <th>2017-04-30 00:00:00+00:00</th>\n",
       "      <td>11.377917</td>\n",
       "    </tr>\n",
       "    <tr>\n",
       "      <th>2017-05-31 00:00:00+00:00</th>\n",
       "      <td>16.851210</td>\n",
       "    </tr>\n",
       "    <tr>\n",
       "      <th>2017-06-30 00:00:00+00:00</th>\n",
       "      <td>22.463750</td>\n",
       "    </tr>\n",
       "    <tr>\n",
       "      <th>2017-07-31 00:00:00+00:00</th>\n",
       "      <td>22.904839</td>\n",
       "    </tr>\n",
       "    <tr>\n",
       "      <th>2017-08-31 00:00:00+00:00</th>\n",
       "      <td>22.854508</td>\n",
       "    </tr>\n",
       "    <tr>\n",
       "      <th>2017-09-30 00:00:00+00:00</th>\n",
       "      <td>16.043933</td>\n",
       "    </tr>\n",
       "    <tr>\n",
       "      <th>2017-10-31 00:00:00+00:00</th>\n",
       "      <td>13.979032</td>\n",
       "    </tr>\n",
       "    <tr>\n",
       "      <th>2017-11-30 00:00:00+00:00</th>\n",
       "      <td>6.548523</td>\n",
       "    </tr>\n",
       "    <tr>\n",
       "      <th>2017-12-31 00:00:00+00:00</th>\n",
       "      <td>4.231174</td>\n",
       "    </tr>\n",
       "    <tr>\n",
       "      <th>2018-01-31 00:00:00+00:00</th>\n",
       "      <td>7.843548</td>\n",
       "    </tr>\n",
       "    <tr>\n",
       "      <th>2018-02-28 00:00:00+00:00</th>\n",
       "      <td>1.895982</td>\n",
       "    </tr>\n",
       "    <tr>\n",
       "      <th>2018-03-31 00:00:00+00:00</th>\n",
       "      <td>7.776613</td>\n",
       "    </tr>\n",
       "    <tr>\n",
       "      <th>2018-04-30 00:00:00+00:00</th>\n",
       "      <td>15.019167</td>\n",
       "    </tr>\n",
       "    <tr>\n",
       "      <th>2018-05-31 00:00:00+00:00</th>\n",
       "      <td>16.883740</td>\n",
       "    </tr>\n",
       "    <tr>\n",
       "      <th>2018-06-30 00:00:00+00:00</th>\n",
       "      <td>20.668750</td>\n",
       "    </tr>\n",
       "    <tr>\n",
       "      <th>2018-07-31 00:00:00+00:00</th>\n",
       "      <td>24.004082</td>\n",
       "    </tr>\n",
       "    <tr>\n",
       "      <th>2018-08-31 00:00:00+00:00</th>\n",
       "      <td>23.407661</td>\n",
       "    </tr>\n",
       "    <tr>\n",
       "      <th>2018-09-30 00:00:00+00:00</th>\n",
       "      <td>19.968750</td>\n",
       "    </tr>\n",
       "    <tr>\n",
       "      <th>2018-10-31 00:00:00+00:00</th>\n",
       "      <td>13.547967</td>\n",
       "    </tr>\n",
       "    <tr>\n",
       "      <th>2018-11-30 00:00:00+00:00</th>\n",
       "      <td>8.797917</td>\n",
       "    </tr>\n",
       "    <tr>\n",
       "      <th>2018-12-31 00:00:00+00:00</th>\n",
       "      <td>5.906048</td>\n",
       "    </tr>\n",
       "    <tr>\n",
       "      <th>2019-01-31 00:00:00+00:00</th>\n",
       "      <td>2.859274</td>\n",
       "    </tr>\n",
       "    <tr>\n",
       "      <th>2019-02-28 00:00:00+00:00</th>\n",
       "      <td>6.798206</td>\n",
       "    </tr>\n",
       "    <tr>\n",
       "      <th>2019-03-31 00:00:00+00:00</th>\n",
       "      <td>9.766935</td>\n",
       "    </tr>\n",
       "    <tr>\n",
       "      <th>2019-04-30 00:00:00+00:00</th>\n",
       "      <td>11.755417</td>\n",
       "    </tr>\n",
       "    <tr>\n",
       "      <th>2019-05-31 00:00:00+00:00</th>\n",
       "      <td>13.806048</td>\n",
       "    </tr>\n",
       "    <tr>\n",
       "      <th>2019-06-30 00:00:00+00:00</th>\n",
       "      <td>21.742083</td>\n",
       "    </tr>\n",
       "    <tr>\n",
       "      <th>2019-07-31 00:00:00+00:00</th>\n",
       "      <td>24.357959</td>\n",
       "    </tr>\n",
       "    <tr>\n",
       "      <th>2019-08-31 00:00:00+00:00</th>\n",
       "      <td>22.188710</td>\n",
       "    </tr>\n",
       "    <tr>\n",
       "      <th>2019-09-30 00:00:00+00:00</th>\n",
       "      <td>18.546250</td>\n",
       "    </tr>\n",
       "    <tr>\n",
       "      <th>2019-10-31 00:00:00+00:00</th>\n",
       "      <td>15.083065</td>\n",
       "    </tr>\n",
       "    <tr>\n",
       "      <th>2019-11-30 00:00:00+00:00</th>\n",
       "      <td>7.925417</td>\n",
       "    </tr>\n",
       "    <tr>\n",
       "      <th>2019-12-31 00:00:00+00:00</th>\n",
       "      <td>6.863710</td>\n",
       "    </tr>\n",
       "  </tbody>\n",
       "</table>\n",
       "</div>"
      ],
      "text/plain": [
       "                           TemperatureC\n",
       "date                                   \n",
       "2016-01-31 00:00:00+00:00      6.471774\n",
       "2016-02-29 00:00:00+00:00      6.612500\n",
       "2016-03-31 00:00:00+00:00      6.940323\n",
       "2016-04-30 00:00:00+00:00     11.447917\n",
       "2016-05-31 00:00:00+00:00     14.821053\n",
       "2016-06-30 00:00:00+00:00     19.286611\n",
       "2016-07-31 00:00:00+00:00     22.137903\n",
       "2016-08-31 00:00:00+00:00     22.184677\n",
       "2016-09-30 00:00:00+00:00     19.750833\n",
       "2016-10-31 00:00:00+00:00     11.186640\n",
       "2016-11-30 00:00:00+00:00      7.954167\n",
       "2016-12-31 00:00:00+00:00      2.003629\n",
       "2017-01-31 00:00:00+00:00      0.024194\n",
       "2017-02-28 00:00:00+00:00      8.120536\n",
       "2017-03-31 00:00:00+00:00     10.892742\n",
       "2017-04-30 00:00:00+00:00     11.377917\n",
       "2017-05-31 00:00:00+00:00     16.851210\n",
       "2017-06-30 00:00:00+00:00     22.463750\n",
       "2017-07-31 00:00:00+00:00     22.904839\n",
       "2017-08-31 00:00:00+00:00     22.854508\n",
       "2017-09-30 00:00:00+00:00     16.043933\n",
       "2017-10-31 00:00:00+00:00     13.979032\n",
       "2017-11-30 00:00:00+00:00      6.548523\n",
       "2017-12-31 00:00:00+00:00      4.231174\n",
       "2018-01-31 00:00:00+00:00      7.843548\n",
       "2018-02-28 00:00:00+00:00      1.895982\n",
       "2018-03-31 00:00:00+00:00      7.776613\n",
       "2018-04-30 00:00:00+00:00     15.019167\n",
       "2018-05-31 00:00:00+00:00     16.883740\n",
       "2018-06-30 00:00:00+00:00     20.668750\n",
       "2018-07-31 00:00:00+00:00     24.004082\n",
       "2018-08-31 00:00:00+00:00     23.407661\n",
       "2018-09-30 00:00:00+00:00     19.968750\n",
       "2018-10-31 00:00:00+00:00     13.547967\n",
       "2018-11-30 00:00:00+00:00      8.797917\n",
       "2018-12-31 00:00:00+00:00      5.906048\n",
       "2019-01-31 00:00:00+00:00      2.859274\n",
       "2019-02-28 00:00:00+00:00      6.798206\n",
       "2019-03-31 00:00:00+00:00      9.766935\n",
       "2019-04-30 00:00:00+00:00     11.755417\n",
       "2019-05-31 00:00:00+00:00     13.806048\n",
       "2019-06-30 00:00:00+00:00     21.742083\n",
       "2019-07-31 00:00:00+00:00     24.357959\n",
       "2019-08-31 00:00:00+00:00     22.188710\n",
       "2019-09-30 00:00:00+00:00     18.546250\n",
       "2019-10-31 00:00:00+00:00     15.083065\n",
       "2019-11-30 00:00:00+00:00      7.925417\n",
       "2019-12-31 00:00:00+00:00      6.863710"
      ]
     },
     "execution_count": 35,
     "metadata": {},
     "output_type": "execute_result"
    }
   ],
   "source": [
    "df"
   ]
  },
  {
   "cell_type": "code",
   "execution_count": 47,
   "metadata": {},
   "outputs": [
    {
     "data": {
      "text/plain": [
       "<matplotlib.axes._subplots.AxesSubplot at 0x7f27cb8594a8>"
      ]
     },
     "execution_count": 47,
     "metadata": {},
     "output_type": "execute_result"
    },
    {
     "data": {
      "image/png": "[encoded data removed]",
      "text/plain": [
       "<Figure size 864x360 with 1 Axes>"
      ]
     },
     "metadata": {
      "needs_background": "light"
     },
     "output_type": "display_data"
    }
   ],
   "source": [
    "df.plot(figsize=(12,5))"
   ]
  },
  {
   "cell_type": "markdown",
   "metadata": {},
   "source": [
    "Analyse stationarity"
   ]
  },
  {
   "cell_type": "code",
   "execution_count": 8,
   "metadata": {},
   "outputs": [
    {
     "name": "stdout",
     "output_type": "stream",
     "text": [
      "1. ADF :  -2.4339813665843733\n",
      "2. P-Value :  0.13237417226160014\n",
      "3. Num Of Lags :  14\n",
      "4. Num Of Observations Used For ADF Regression: 1446\n",
      "5. Critical Values :\n",
      "\t 1% :  -3.434880391815318\n",
      "\t 5% :  -2.8635408625359315\n",
      "\t 10% :  -2.5678352438452814\n"
     ]
    }
   ],
   "source": [
    "\n",
    "def ad_test(dataset):\n",
    "     dftest = adfuller(dataset, autolag = 'AIC')\n",
    "     print(\"1. ADF : \",dftest[0])\n",
    "     print(\"2. P-Value : \", dftest[1])\n",
    "     print(\"3. Num Of Lags : \", dftest[2])\n",
    "     print(\"4. Num Of Observations Used For ADF Regression:\",   dftest[3])\n",
    "     print(\"5. Critical Values :\")\n",
    "     for key, val in dftest[4].items():\n",
    "         print(\"\\t\",key, \": \", val)\n",
    "ad_test(df['TemperatureC'])"
   ]
  },
  {
   "cell_type": "markdown",
   "metadata": {},
   "source": [
    "Auto generate ARIMA parameters' orders"
   ]
  },
  {
   "cell_type": "code",
   "execution_count": 48,
   "metadata": {},
   "outputs": [
    {
     "name": "stdout",
     "output_type": "stream",
     "text": [
      "Performing stepwise search to minimize aic\n",
      " ARIMA(2,0,2)(1,0,1)[4] intercept   : AIC=6482.357, Time=2.81 sec\n",
      " ARIMA(0,0,0)(0,0,0)[4] intercept   : AIC=10106.080, Time=0.03 sec\n",
      " ARIMA(1,0,0)(1,0,0)[4] intercept   : AIC=6598.712, Time=0.91 sec\n",
      " ARIMA(0,0,1)(0,0,1)[4] intercept   : AIC=7816.379, Time=0.49 sec\n",
      " ARIMA(0,0,0)(0,0,0)[4]             : AIC=12122.668, Time=0.02 sec\n",
      " ARIMA(2,0,2)(0,0,1)[4] intercept   : AIC=6472.008, Time=1.50 sec\n",
      " ARIMA(2,0,2)(0,0,0)[4] intercept   : AIC=6470.380, Time=0.86 sec\n",
      " ARIMA(2,0,2)(1,0,0)[4] intercept   : AIC=6474.726, Time=2.62 sec\n",
      " ARIMA(1,0,2)(0,0,0)[4] intercept   : AIC=6514.574, Time=0.37 sec\n",
      " ARIMA(2,0,1)(0,0,0)[4] intercept   : AIC=6544.834, Time=0.50 sec\n",
      " ARIMA(3,0,2)(0,0,0)[4] intercept   : AIC=6469.808, Time=1.35 sec\n",
      " ARIMA(3,0,2)(1,0,0)[4] intercept   : AIC=6527.652, Time=4.04 sec\n",
      " ARIMA(3,0,2)(0,0,1)[4] intercept   : AIC=6471.576, Time=2.01 sec\n",
      " ARIMA(3,0,2)(1,0,1)[4] intercept   : AIC=6498.061, Time=2.83 sec\n",
      " ARIMA(3,0,1)(0,0,0)[4] intercept   : AIC=6488.751, Time=1.30 sec\n",
      " ARIMA(3,0,3)(0,0,0)[4] intercept   : AIC=6474.363, Time=1.08 sec\n",
      " ARIMA(2,0,3)(0,0,0)[4] intercept   : AIC=6470.270, Time=1.32 sec\n",
      " ARIMA(3,0,2)(0,0,0)[4]             : AIC=6472.475, Time=0.75 sec\n",
      "\n",
      "Best model:  ARIMA(3,0,2)(0,0,0)[4] intercept\n",
      "Total fit time: 24.818 seconds\n"
     ]
    }
   ],
   "source": [
    "from pmdarima import auto_arima\n",
    "stepwise_fit = auto_arima(df['TemperatureC'], trace=True, seasonal=True, m=4, suppress_warnings=True)"
   ]
  },
  {
   "cell_type": "markdown",
   "metadata": {},
   "source": [
    "Split data for trainning and testing"
   ]
  },
  {
   "cell_type": "code",
   "execution_count": 49,
   "metadata": {},
   "outputs": [
    {
     "name": "stdout",
     "output_type": "stream",
     "text": [
      "(1461, 1)\n",
      "(1431, 1) (30, 1)\n"
     ]
    }
   ],
   "source": [
    "print(df.shape)\n",
    "train=df.iloc[:-30].copy()\n",
    "test=df.iloc[-30:].copy()\n",
    "print(train.shape,test.shape)"
   ]
  },
  {
   "cell_type": "markdown",
   "metadata": {},
   "source": [
    "Train the model"
   ]
  },
  {
   "cell_type": "code",
   "execution_count": 51,
   "metadata": {},
   "outputs": [
    {
     "name": "stderr",
     "output_type": "stream",
     "text": [
      "/home/ec2-user/SageMaker/IoTAnalytics/statsmodels/base/model.py:568: ConvergenceWarning: Maximum Likelihood optimization failed to converge. Check mle_retvals\n",
      "  ConvergenceWarning)\n"
     ]
    },
    {
     "data": {
      "text/html": [
       "<table class=\"simpletable\">\n",
       "<caption>SARIMAX Results</caption>\n",
       "<tr>\n",
       "  <th>Dep. Variable:</th>     <td>TemperatureC</td>   <th>  No. Observations:  </th>   <td>1431</td>   \n",
       "</tr>\n",
       "<tr>\n",
       "  <th>Model:</th>           <td>SARIMAX(3, 0, 2)</td> <th>  Log Likelihood     </th> <td>-3155.088</td>\n",
       "</tr>\n",
       "<tr>\n",
       "  <th>Date:</th>            <td>Mon, 07 Dec 2020</td> <th>  AIC                </th> <td>6322.176</td> \n",
       "</tr>\n",
       "<tr>\n",
       "  <th>Time:</th>                <td>01:12:47</td>     <th>  BIC                </th> <td>6353.761</td> \n",
       "</tr>\n",
       "<tr>\n",
       "  <th>Sample:</th>             <td>01-01-2016</td>    <th>  HQIC               </th> <td>6333.972</td> \n",
       "</tr>\n",
       "<tr>\n",
       "  <th></th>                   <td>- 12-01-2019</td>   <th>                     </th>     <td> </td>    \n",
       "</tr>\n",
       "<tr>\n",
       "  <th>Covariance Type:</th>        <td>opg</td>       <th>                     </th>     <td> </td>    \n",
       "</tr>\n",
       "</table>\n",
       "<table class=\"simpletable\">\n",
       "<tr>\n",
       "     <td></td>       <th>coef</th>     <th>std err</th>      <th>z</th>      <th>P>|z|</th>  <th>[0.025</th>    <th>0.975]</th>  \n",
       "</tr>\n",
       "<tr>\n",
       "  <th>ar.L1</th>  <td>    1.3871</td> <td>    0.080</td> <td>   17.409</td> <td> 0.000</td> <td>    1.231</td> <td>    1.543</td>\n",
       "</tr>\n",
       "<tr>\n",
       "  <th>ar.L2</th>  <td>   -0.2223</td> <td>    0.147</td> <td>   -1.507</td> <td> 0.132</td> <td>   -0.511</td> <td>    0.067</td>\n",
       "</tr>\n",
       "<tr>\n",
       "  <th>ar.L3</th>  <td>   -0.1656</td> <td>    0.076</td> <td>   -2.174</td> <td> 0.030</td> <td>   -0.315</td> <td>   -0.016</td>\n",
       "</tr>\n",
       "<tr>\n",
       "  <th>ma.L1</th>  <td>   -0.3372</td> <td>    0.074</td> <td>   -4.584</td> <td> 0.000</td> <td>   -0.481</td> <td>   -0.193</td>\n",
       "</tr>\n",
       "<tr>\n",
       "  <th>ma.L2</th>  <td>   -0.4923</td> <td>    0.074</td> <td>   -6.692</td> <td> 0.000</td> <td>   -0.637</td> <td>   -0.348</td>\n",
       "</tr>\n",
       "<tr>\n",
       "  <th>sigma2</th> <td>    4.8051</td> <td>    0.160</td> <td>   30.085</td> <td> 0.000</td> <td>    4.492</td> <td>    5.118</td>\n",
       "</tr>\n",
       "</table>\n",
       "<table class=\"simpletable\">\n",
       "<tr>\n",
       "  <th>Ljung-Box (L1) (Q):</th>     <td>0.00</td> <th>  Jarque-Bera (JB):  </th> <td>140.26</td>\n",
       "</tr>\n",
       "<tr>\n",
       "  <th>Prob(Q):</th>                <td>0.99</td> <th>  Prob(JB):          </th>  <td>0.00</td> \n",
       "</tr>\n",
       "<tr>\n",
       "  <th>Heteroskedasticity (H):</th> <td>1.06</td> <th>  Skew:              </th>  <td>-0.46</td>\n",
       "</tr>\n",
       "<tr>\n",
       "  <th>Prob(H) (two-sided):</th>    <td>0.52</td> <th>  Kurtosis:          </th>  <td>4.23</td> \n",
       "</tr>\n",
       "</table><br/><br/>Warnings:<br/>[1] Covariance matrix calculated using the outer product of gradients (complex-step)."
      ],
      "text/plain": [
       "<class 'statsmodels.iolib.summary.Summary'>\n",
       "\"\"\"\n",
       "                               SARIMAX Results                                \n",
       "==============================================================================\n",
       "Dep. Variable:           TemperatureC   No. Observations:                 1431\n",
       "Model:               SARIMAX(3, 0, 2)   Log Likelihood               -3155.088\n",
       "Date:                Mon, 07 Dec 2020   AIC                           6322.176\n",
       "Time:                        01:12:47   BIC                           6353.761\n",
       "Sample:                    01-01-2016   HQIC                          6333.972\n",
       "                         - 12-01-2019                                         \n",
       "Covariance Type:                  opg                                         \n",
       "==============================================================================\n",
       "                 coef    std err          z      P>|z|      [0.025      0.975]\n",
       "------------------------------------------------------------------------------\n",
       "ar.L1          1.3871      0.080     17.409      0.000       1.231       1.543\n",
       "ar.L2         -0.2223      0.147     -1.507      0.132      -0.511       0.067\n",
       "ar.L3         -0.1656      0.076     -2.174      0.030      -0.315      -0.016\n",
       "ma.L1         -0.3372      0.074     -4.584      0.000      -0.481      -0.193\n",
       "ma.L2         -0.4923      0.074     -6.692      0.000      -0.637      -0.348\n",
       "sigma2         4.8051      0.160     30.085      0.000       4.492       5.118\n",
       "===================================================================================\n",
       "Ljung-Box (L1) (Q):                   0.00   Jarque-Bera (JB):               140.26\n",
       "Prob(Q):                              0.99   Prob(JB):                         0.00\n",
       "Heteroskedasticity (H):               1.06   Skew:                            -0.46\n",
       "Prob(H) (two-sided):                  0.52   Kurtosis:                         4.23\n",
       "===================================================================================\n",
       "\n",
       "Warnings:\n",
       "[1] Covariance matrix calculated using the outer product of gradients (complex-step).\n",
       "\"\"\""
      ]
     },
     "execution_count": 51,
     "metadata": {},
     "output_type": "execute_result"
    }
   ],
   "source": [
    "from statsmodels.tsa.statespace.sarimax import SARIMAX\n",
    "model=SARIMAX(train['TemperatureC'],order=(3,0,2), seasonal_order=(0,0,0,0), enforce_stationarity=False, enforce_invertibility=False,freq='D')   \n",
    "model=model.fit()\n",
    "model.summary()"
   ]
  },
  {
   "cell_type": "markdown",
   "metadata": {},
   "source": [
    "Plot the results"
   ]
  },
  {
   "cell_type": "code",
   "execution_count": 52,
   "metadata": {},
   "outputs": [
    {
     "data": {
      "text/plain": [
       "<matplotlib.axes._subplots.AxesSubplot at 0x7f27cb428978>"
      ]
     },
     "execution_count": 52,
     "metadata": {},
     "output_type": "execute_result"
    },
    {
     "data": {
      "image/png": "[encoded data removed]",
      "text/plain": [
       "<Figure size 432x288 with 1 Axes>"
      ]
     },
     "metadata": {
      "needs_background": "light"
     },
     "output_type": "display_data"
    }
   ],
   "source": [
    "start=len(train)\n",
    "end=len(train)+len(test)-1\n",
    "pred=model.predict(start=start,end=end,typ='levels').rename('ARIMA Predictions')\n",
    "test['predicted_temp'] = pred.tolist()\n",
    "test.plot(legend=True)"
   ]
  },
  {
   "cell_type": "markdown",
   "metadata": {},
   "source": [
    "Process RMSE"
   ]
  },
  {
   "cell_type": "code",
   "execution_count": 53,
   "metadata": {},
   "outputs": [
    {
     "name": "stdout",
     "output_type": "stream",
     "text": [
      "4.52975889181115 13.256872575861296\n"
     ]
    }
   ],
   "source": [
    "from sklearn.metrics import mean_squared_error\n",
    "from math import sqrt\n",
    "test['TemperatureC'].mean()\n",
    "rmse=sqrt(mean_squared_error(pred,test['TemperatureC']))\n",
    "print(rmse, df['TemperatureC'].mean())"
   ]
  },
  {
   "cell_type": "code",
   "execution_count": 54,
   "metadata": {},
   "outputs": [
    {
     "data": {
      "text/html": [
       "<div>\n",
       "<style scoped>\n",
       "    .dataframe tbody tr th:only-of-type {\n",
       "        vertical-align: middle;\n",
       "    }\n",
       "\n",
       "    .dataframe tbody tr th {\n",
       "        vertical-align: top;\n",
       "    }\n",
       "\n",
       "    .dataframe thead th {\n",
       "        text-align: right;\n",
       "    }\n",
       "</style>\n",
       "<table border=\"1\" class=\"dataframe\">\n",
       "  <thead>\n",
       "    <tr style=\"text-align: right;\">\n",
       "      <th></th>\n",
       "      <th>TemperatureC</th>\n",
       "      <th>predicted_temp</th>\n",
       "    </tr>\n",
       "    <tr>\n",
       "      <th>date</th>\n",
       "      <th></th>\n",
       "      <th></th>\n",
       "    </tr>\n",
       "  </thead>\n",
       "  <tbody>\n",
       "    <tr>\n",
       "      <th>2019-12-02 00:00:00+00:00</th>\n",
       "      <td>4.8375</td>\n",
       "      <td>7.760469</td>\n",
       "    </tr>\n",
       "    <tr>\n",
       "      <th>2019-12-03 00:00:00+00:00</th>\n",
       "      <td>1.2750</td>\n",
       "      <td>7.711294</td>\n",
       "    </tr>\n",
       "    <tr>\n",
       "      <th>2019-12-04 00:00:00+00:00</th>\n",
       "      <td>-0.6000</td>\n",
       "      <td>7.820690</td>\n",
       "    </tr>\n",
       "    <tr>\n",
       "      <th>2019-12-05 00:00:00+00:00</th>\n",
       "      <td>-1.4875</td>\n",
       "      <td>7.849196</td>\n",
       "    </tr>\n",
       "    <tr>\n",
       "      <th>2019-12-06 00:00:00+00:00</th>\n",
       "      <td>2.0250</td>\n",
       "      <td>7.872557</td>\n",
       "    </tr>\n",
       "    <tr>\n",
       "      <th>2019-12-07 00:00:00+00:00</th>\n",
       "      <td>7.9250</td>\n",
       "      <td>7.880514</td>\n",
       "    </tr>\n",
       "    <tr>\n",
       "      <th>2019-12-08 00:00:00+00:00</th>\n",
       "      <td>9.6750</td>\n",
       "      <td>7.881639</td>\n",
       "    </tr>\n",
       "    <tr>\n",
       "      <th>2019-12-09 00:00:00+00:00</th>\n",
       "      <td>7.9250</td>\n",
       "      <td>7.877562</td>\n",
       "    </tr>\n",
       "    <tr>\n",
       "      <th>2019-12-10 00:00:00+00:00</th>\n",
       "      <td>4.3125</td>\n",
       "      <td>7.870341</td>\n",
       "    </tr>\n",
       "    <tr>\n",
       "      <th>2019-12-11 00:00:00+00:00</th>\n",
       "      <td>3.0250</td>\n",
       "      <td>7.861043</td>\n",
       "    </tr>\n",
       "    <tr>\n",
       "      <th>2019-12-12 00:00:00+00:00</th>\n",
       "      <td>4.8875</td>\n",
       "      <td>7.850426</td>\n",
       "    </tr>\n",
       "    <tr>\n",
       "      <th>2019-12-13 00:00:00+00:00</th>\n",
       "      <td>6.8625</td>\n",
       "      <td>7.838962</td>\n",
       "    </tr>\n",
       "    <tr>\n",
       "      <th>2019-12-14 00:00:00+00:00</th>\n",
       "      <td>8.3625</td>\n",
       "      <td>7.826960</td>\n",
       "    </tr>\n",
       "    <tr>\n",
       "      <th>2019-12-15 00:00:00+00:00</th>\n",
       "      <td>12.7750</td>\n",
       "      <td>7.814617</td>\n",
       "    </tr>\n",
       "    <tr>\n",
       "      <th>2019-12-16 00:00:00+00:00</th>\n",
       "      <td>13.5125</td>\n",
       "      <td>7.802062</td>\n",
       "    </tr>\n",
       "    <tr>\n",
       "      <th>2019-12-17 00:00:00+00:00</th>\n",
       "      <td>14.8625</td>\n",
       "      <td>7.789378</td>\n",
       "    </tr>\n",
       "    <tr>\n",
       "      <th>2019-12-18 00:00:00+00:00</th>\n",
       "      <td>14.1500</td>\n",
       "      <td>7.776618</td>\n",
       "    </tr>\n",
       "    <tr>\n",
       "      <th>2019-12-19 00:00:00+00:00</th>\n",
       "      <td>13.1125</td>\n",
       "      <td>7.763817</td>\n",
       "    </tr>\n",
       "    <tr>\n",
       "      <th>2019-12-20 00:00:00+00:00</th>\n",
       "      <td>13.1125</td>\n",
       "      <td>7.750996</td>\n",
       "    </tr>\n",
       "    <tr>\n",
       "      <th>2019-12-21 00:00:00+00:00</th>\n",
       "      <td>9.6000</td>\n",
       "      <td>7.738171</td>\n",
       "    </tr>\n",
       "    <tr>\n",
       "      <th>2019-12-22 00:00:00+00:00</th>\n",
       "      <td>9.9500</td>\n",
       "      <td>7.725350</td>\n",
       "    </tr>\n",
       "    <tr>\n",
       "      <th>2019-12-23 00:00:00+00:00</th>\n",
       "      <td>7.9375</td>\n",
       "      <td>7.712540</td>\n",
       "    </tr>\n",
       "    <tr>\n",
       "      <th>2019-12-24 00:00:00+00:00</th>\n",
       "      <td>6.9625</td>\n",
       "      <td>7.699744</td>\n",
       "    </tr>\n",
       "    <tr>\n",
       "      <th>2019-12-25 00:00:00+00:00</th>\n",
       "      <td>4.5750</td>\n",
       "      <td>7.686964</td>\n",
       "    </tr>\n",
       "    <tr>\n",
       "      <th>2019-12-26 00:00:00+00:00</th>\n",
       "      <td>4.6125</td>\n",
       "      <td>7.674203</td>\n",
       "    </tr>\n",
       "    <tr>\n",
       "      <th>2019-12-27 00:00:00+00:00</th>\n",
       "      <td>7.9750</td>\n",
       "      <td>7.661461</td>\n",
       "    </tr>\n",
       "    <tr>\n",
       "      <th>2019-12-28 00:00:00+00:00</th>\n",
       "      <td>6.7875</td>\n",
       "      <td>7.648740</td>\n",
       "    </tr>\n",
       "    <tr>\n",
       "      <th>2019-12-29 00:00:00+00:00</th>\n",
       "      <td>3.2500</td>\n",
       "      <td>7.636038</td>\n",
       "    </tr>\n",
       "    <tr>\n",
       "      <th>2019-12-30 00:00:00+00:00</th>\n",
       "      <td>3.1000</td>\n",
       "      <td>7.623357</td>\n",
       "    </tr>\n",
       "    <tr>\n",
       "      <th>2019-12-31 00:00:00+00:00</th>\n",
       "      <td>0.5250</td>\n",
       "      <td>7.610697</td>\n",
       "    </tr>\n",
       "  </tbody>\n",
       "</table>\n",
       "</div>"
      ],
      "text/plain": [
       "                           TemperatureC  predicted_temp\n",
       "date                                                   \n",
       "2019-12-02 00:00:00+00:00        4.8375        7.760469\n",
       "2019-12-03 00:00:00+00:00        1.2750        7.711294\n",
       "2019-12-04 00:00:00+00:00       -0.6000        7.820690\n",
       "2019-12-05 00:00:00+00:00       -1.4875        7.849196\n",
       "2019-12-06 00:00:00+00:00        2.0250        7.872557\n",
       "2019-12-07 00:00:00+00:00        7.9250        7.880514\n",
       "2019-12-08 00:00:00+00:00        9.6750        7.881639\n",
       "2019-12-09 00:00:00+00:00        7.9250        7.877562\n",
       "2019-12-10 00:00:00+00:00        4.3125        7.870341\n",
       "2019-12-11 00:00:00+00:00        3.0250        7.861043\n",
       "2019-12-12 00:00:00+00:00        4.8875        7.850426\n",
       "2019-12-13 00:00:00+00:00        6.8625        7.838962\n",
       "2019-12-14 00:00:00+00:00        8.3625        7.826960\n",
       "2019-12-15 00:00:00+00:00       12.7750        7.814617\n",
       "2019-12-16 00:00:00+00:00       13.5125        7.802062\n",
       "2019-12-17 00:00:00+00:00       14.8625        7.789378\n",
       "2019-12-18 00:00:00+00:00       14.1500        7.776618\n",
       "2019-12-19 00:00:00+00:00       13.1125        7.763817\n",
       "2019-12-20 00:00:00+00:00       13.1125        7.750996\n",
       "2019-12-21 00:00:00+00:00        9.6000        7.738171\n",
       "2019-12-22 00:00:00+00:00        9.9500        7.725350\n",
       "2019-12-23 00:00:00+00:00        7.9375        7.712540\n",
       "2019-12-24 00:00:00+00:00        6.9625        7.699744\n",
       "2019-12-25 00:00:00+00:00        4.5750        7.686964\n",
       "2019-12-26 00:00:00+00:00        4.6125        7.674203\n",
       "2019-12-27 00:00:00+00:00        7.9750        7.661461\n",
       "2019-12-28 00:00:00+00:00        6.7875        7.648740\n",
       "2019-12-29 00:00:00+00:00        3.2500        7.636038\n",
       "2019-12-30 00:00:00+00:00        3.1000        7.623357\n",
       "2019-12-31 00:00:00+00:00        0.5250        7.610697"
      ]
     },
     "execution_count": 54,
     "metadata": {},
     "output_type": "execute_result"
    }
   ],
   "source": [
    "test"
   ]
  },
  {
   "cell_type": "markdown",
   "metadata": {},
   "source": [
    "<div style=\"height:60px;\"><div style=\"height:7px;background-color:#20B3CD;width:100%;margin-top:20px;position:relative;\"><img src=\"https://s3.amazonaws.com/iotanalytics-templates/Logo.png\" style=\"height:50px;width:50px;margin-top:-20px;position:absolute;margin-left:42%;\"></div></div>"
   ]
  }
 ],
 "metadata": {
  "kernelspec": {
   "display_name": "Containerized conda_python3",
   "language": "python",
   "name": "containerized_conda_python3"
  },
  "language_info": {
   "codemirror_mode": {
    "name": "ipython",
    "version": 3
   },
   "file_extension": ".py",
   "mimetype": "text/x-python",
   "name": "python",
   "nbconvert_exporter": "python",
   "pygments_lexer": "ipython3",
   "version": "3.6.10"
  }
 },
 "nbformat": 4,
 "nbformat_minor": 2
}
